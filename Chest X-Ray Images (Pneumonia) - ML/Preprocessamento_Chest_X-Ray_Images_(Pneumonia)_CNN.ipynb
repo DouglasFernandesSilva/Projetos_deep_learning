{
 "cells": [
  {
   "cell_type": "markdown",
   "id": "be73955f",
   "metadata": {},
   "source": [
    "# Chest X-Ray Images (Pneumonia)\n",
    "kaggle - https://www.kaggle.com/datasets/paultimothymooney/chest-xray-pneumonia"
   ]
  },
  {
   "cell_type": "code",
   "execution_count": 1,
   "id": "91dcf7a7",
   "metadata": {},
   "outputs": [],
   "source": [
    "import os\n",
    "current_dir = os.path.abspath(os.getcwd())"
   ]
  },
  {
   "cell_type": "code",
   "execution_count": 2,
   "id": "370aeff4",
   "metadata": {},
   "outputs": [],
   "source": [
    "original_path_train_normal = current_dir + '\\\\chest_xray' + '\\\\train' + '\\\\NORMAL\\\\'\n",
    "original_path_train_pneumonia = current_dir + '\\\\chest_xray' + '\\\\train' + '\\\\PNEUMONIA\\\\'\n",
    "original_path_test_normal = current_dir + '\\\\chest_xray' + '\\\\test' + '\\\\NORMAL\\\\'\n",
    "original_path_test_pneumonia = current_dir + '\\\\chest_xray' + '\\\\test' + '\\\\PNEUMONIA\\\\'"
   ]
  },
  {
   "cell_type": "code",
   "execution_count": 3,
   "id": "a68d3de5",
   "metadata": {},
   "outputs": [],
   "source": [
    "folder = '\\\\Chest_X-Ray_Images_dataset'\n",
    "train_folder = current_dir + folder + '\\\\train'"
   ]
  },
  {
   "cell_type": "code",
   "execution_count": 4,
   "id": "687ffd3a",
   "metadata": {},
   "outputs": [],
   "source": [
    "os.mkdir(current_dir + folder)\n",
    "os.mkdir(train_folder)\n",
    "\n",
    "new_folder_train_normal = train_folder + '\\\\NORMAL'\n",
    "new_folder_train_pneumonia_bacterial = train_folder + '\\\\PNEUMONIA_BACTERIAL'\n",
    "new_folder_train_pneumonia_viral = train_folder + '\\\\PNEUMONIA_VIRAL'\n",
    "\n",
    "os.mkdir(new_folder_train_normal)\n",
    "os.mkdir(new_folder_train_pneumonia_bacterial)\n",
    "os.mkdir(new_folder_train_pneumonia_viral)"
   ]
  },
  {
   "cell_type": "code",
   "execution_count": 5,
   "id": "83efb205",
   "metadata": {},
   "outputs": [],
   "source": [
    "import shutil\n",
    "import glob\n",
    "\n",
    "normal_files_train_im = glob.glob(original_path_train_normal + 'IM-*')\n",
    "normal_files_train_normal = glob.glob(original_path_train_normal + 'NORMAL*')\n",
    "\n",
    "normal_files_test_im = glob.glob(original_path_test_normal + 'IM-*')\n",
    "normal_files_test_normal = glob.glob(original_path_test_normal + 'NORMAL*')\n",
    "\n",
    "pneumonia_bacterial_files_train = glob.glob(original_path_train_pneumonia + 'person*' + '_bacteria*')\n",
    "pneumonia_bacterial_files_test = glob.glob(original_path_test_pneumonia + 'person*' + '_bacteria*')\n",
    "\n",
    "pneumonia_viral_files_train = glob.glob(original_path_train_pneumonia +  'person*' + '_virus*')\n",
    "pneumonia_viral_files_test = glob.glob(original_path_test_pneumonia +  'person*' + '_virus*')\n",
    "\n",
    "for f in normal_files_train_im:\n",
    "    filename = f.split('\\\\')[-1]\n",
    "    shutil.move(f, new_folder_train_normal + '\\\\' + filename)\n",
    "    \n",
    "for f in normal_files_train_normal:\n",
    "    filename = f.split('\\\\')[-1]\n",
    "    shutil.move(f, new_folder_train_normal + '\\\\' + filename)\n",
    "      \n",
    "for f in normal_files_test_im:\n",
    "    filename = f.split('\\\\')[-1]\n",
    "    shutil.move(f, new_folder_train_normal + '\\\\' + filename)\n",
    "\n",
    "for f in normal_files_test_normal:\n",
    "    filename = f.split('\\\\')[-1]\n",
    "    shutil.move(f, new_folder_train_normal + '\\\\' + filename)\n",
    "\n",
    "for f in pneumonia_bacterial_files_train:\n",
    "    filename = f.split('\\\\')[-1]\n",
    "    shutil.move(f, new_folder_train_pneumonia_bacterial + '\\\\' + filename)\n",
    "\n",
    "for f in pneumonia_bacterial_files_test:\n",
    "    filename = f.split('\\\\')[-1]\n",
    "    shutil.move(f, new_folder_train_pneumonia_bacterial + '\\\\' + filename) \n",
    "    \n",
    "for f in pneumonia_viral_files_train:\n",
    "    filename = f.split('\\\\')[-1]\n",
    "    shutil.move(f, new_folder_train_pneumonia_viral + '\\\\' + filename) \n",
    "\n",
    "for f in pneumonia_viral_files_test:\n",
    "    filename = f.split('\\\\')[-1]\n",
    "    shutil.move(f, new_folder_train_pneumonia_viral + '\\\\' + filename)  "
   ]
  }
 ],
 "metadata": {
  "kernelspec": {
   "display_name": "Python 3 (ipykernel)",
   "language": "python",
   "name": "python3"
  },
  "language_info": {
   "codemirror_mode": {
    "name": "ipython",
    "version": 3
   },
   "file_extension": ".py",
   "mimetype": "text/x-python",
   "name": "python",
   "nbconvert_exporter": "python",
   "pygments_lexer": "ipython3",
   "version": "3.9.13"
  }
 },
 "nbformat": 4,
 "nbformat_minor": 5
}
